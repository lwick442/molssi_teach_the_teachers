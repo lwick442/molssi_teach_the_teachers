{
 "cells": [
  {
   "cell_type": "code",
   "execution_count": 1,
   "metadata": {},
   "outputs": [],
   "source": [
    "##LESSON 2 \n"
   ]
  },
  {
   "cell_type": "code",
   "execution_count": 2,
   "metadata": {},
   "outputs": [
    {
     "name": "stdout",
     "output_type": "stream",
     "text": [
      " Volume in drive C is OS\n",
      " Volume Serial Number is 2607-C3AA\n",
      "\n",
      " Directory of C:\\Users\\laure\\Desktop\\cms-workshop\\data\n",
      "\n",
      "07/30/2019  06:36 PM    <DIR>          .\n",
      "07/30/2019  06:36 PM    <DIR>          ..\n",
      "07/30/2019  06:36 PM               619 benzene.xyz\n",
      "07/30/2019  06:36 PM             2,471 buckminsterfullerene.xyz\n",
      "07/30/2019  06:36 PM           355,359 distance_data_headers.csv\n",
      "08/08/2019  01:09 PM    <DIR>          outfiles\n",
      "07/30/2019  06:36 PM            61,568 sapt.out\n",
      "07/30/2019  06:36 PM               155 water.xyz\n",
      "               5 File(s)        420,172 bytes\n",
      "               3 Dir(s)  144,858,365,952 bytes free\n"
     ]
    }
   ],
   "source": [
    "ls data"
   ]
  },
  {
   "cell_type": "code",
   "execution_count": 3,
   "metadata": {},
   "outputs": [
    {
     "name": "stderr",
     "output_type": "stream",
     "text": [
      "Parameter format not correct - \"utfiles\".\n"
     ]
    }
   ],
   "source": [
    "ls data/outfiles"
   ]
  },
  {
   "cell_type": "code",
   "execution_count": 4,
   "metadata": {
    "scrolled": true
   },
   "outputs": [
    {
     "name": "stdout",
     "output_type": "stream",
     "text": [
      " Volume in drive C is OS\n",
      " Volume Serial Number is 2607-C3AA\n",
      "\n",
      " Directory of C:\\Users\\laure\\Desktop\\cms-workshop\\data\\outfiles\n",
      "\n",
      "08/08/2019  01:09 PM    <DIR>          .\n",
      "08/08/2019  01:09 PM    <DIR>          ..\n",
      "08/08/2019  10:05 AM    <DIR>          .ipynb_checkpoints\n",
      "07/30/2019  06:36 PM            12,750 butanol.out\n",
      "08/08/2019  01:09 PM            15,904 cms-workshop.ipynb\n",
      "07/30/2019  06:36 PM            18,728 decanol.out\n",
      "07/30/2019  06:36 PM            10,639 ethanol.out\n",
      "07/30/2019  06:36 PM            15,770 heptanol.out\n",
      "07/30/2019  06:36 PM            14,767 hexanol.out\n",
      "07/30/2019  06:36 PM             9,719 methanol.out\n",
      "07/30/2019  06:36 PM            17,727 nonanol.out\n",
      "07/30/2019  06:36 PM            16,788 octanol.out\n",
      "07/30/2019  06:36 PM            13,762 pentanol.out\n",
      "07/30/2019  06:36 PM            11,710 propanol.out\n",
      "              11 File(s)        158,264 bytes\n",
      "               3 Dir(s)  144,859,267,072 bytes free\n"
     ]
    }
   ],
   "source": [
    "ls data\\outfiles"
   ]
  },
  {
   "cell_type": "code",
   "execution_count": 5,
   "metadata": {},
   "outputs": [
    {
     "name": "stdout",
     "output_type": "stream",
     "text": [
      "data\\outfiles\\ethanol.out\n"
     ]
    }
   ],
   "source": [
    "import os\n",
    "\n",
    "ethanol_file = os.path.join(\"data\", \"outfiles\", \"ethanol.out\")\n",
    "print(ethanol_file)"
   ]
  },
  {
   "cell_type": "code",
   "execution_count": 7,
   "metadata": {},
   "outputs": [],
   "source": [
    "## import library \n",
    "## output = library_name.funtion_name(input)\n",
    "\n",
    "outfile_directory = os.path.join(\"data\", \"outfiles\")\n"
   ]
  },
  {
   "cell_type": "code",
   "execution_count": null,
   "metadata": {},
   "outputs": [],
   "source": []
  }
 ],
 "metadata": {
  "kernelspec": {
   "display_name": "Python 3",
   "language": "python",
   "name": "python3"
  },
  "language_info": {
   "codemirror_mode": {
    "name": "ipython",
    "version": 3
   },
   "file_extension": ".py",
   "mimetype": "text/x-python",
   "name": "python",
   "nbconvert_exporter": "python",
   "pygments_lexer": "ipython3",
   "version": "3.6.5"
  }
 },
 "nbformat": 4,
 "nbformat_minor": 2
}
