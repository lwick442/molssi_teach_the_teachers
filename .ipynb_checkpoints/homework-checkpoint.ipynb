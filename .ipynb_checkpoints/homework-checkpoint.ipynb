{
 "cells": [
  {
   "cell_type": "code",
   "execution_count": 38,
   "metadata": {},
   "outputs": [
    {
     "name": "stdout",
     "output_type": "stream",
     "text": [
      "[[ 0.       -0.007156  0.965491]\n",
      " [-0.        0.001486 -0.003471]\n",
      " [ 0.        0.931026  1.207929]]\n"
     ]
    }
   ],
   "source": [
    "import numpy\n",
    "import os\n",
    "\n",
    "coordinate_file = os.path.join('data', 'water.xyz')\n",
    "\n",
    "coordinates = numpy.genfromtxt(fname=coordinate_file, skip_header=2, dtype='unicode')\n",
    "\n",
    "atom = coordinates[:,0]\n",
    "data = coordinates[:,1:]\n",
    "\n",
    "\n",
    "data = data.astype(numpy.float)\n",
    "print(data)\n",
    "\n",
    "#distance = []\n",
    "#for atom1 in range(0,len(data)):\n",
    "#    x1 = coordinates[atom1, 1]\n",
    "#    print(x1)\n",
    "#    y1 = coordinates[atom1, 2]\n",
    "#    z1 = coordinates[atom1, 3]\n",
    "    \n",
    "#    for atom2 in range(0,len(data)):\n",
    "#         x2 = coordinates[atom2, 1]\n",
    "#         y2 = coordinates[atom2, 2]\n",
    "#         z2 = coordinates[atom2, 3]   \n",
    "#         distancecalc = numpy.sqrt((x1-x2)**2 + (y1-y2)**2 + (z1 - z2)**2)\n",
    "#         print(distancecalc)\n",
    "   #      distance.append(distancecalc)\n",
    "\n",
    "\n",
    "\n"
   ]
  },
  {
   "cell_type": "code",
   "execution_count": 20,
   "metadata": {},
   "outputs": [
    {
     "data": {
      "text/plain": [
       "3"
      ]
     },
     "execution_count": 20,
     "metadata": {},
     "output_type": "execute_result"
    }
   ],
   "source": [
    "len(data)"
   ]
  },
  {
   "cell_type": "code",
   "execution_count": 24,
   "metadata": {},
   "outputs": [
    {
     "data": {
      "text/plain": [
       "array([[ 0.      , -0.007156,  0.965491],\n",
       "       [-0.      ,  0.001486, -0.003471],\n",
       "       [ 0.      ,  0.931026,  1.207929]])"
      ]
     },
     "execution_count": 24,
     "metadata": {},
     "output_type": "execute_result"
    }
   ],
   "source": [
    "data\n"
   ]
  },
  {
   "cell_type": "code",
   "execution_count": 25,
   "metadata": {},
   "outputs": [
    {
     "ename": "TypeError",
     "evalue": "unsupported operand type(s) for -: 'numpy.str_' and 'numpy.str_'",
     "output_type": "error",
     "traceback": [
      "\u001b[1;31m---------------------------------------------------------------------------\u001b[0m",
      "\u001b[1;31mTypeError\u001b[0m                                 Traceback (most recent call last)",
      "\u001b[1;32m<ipython-input-25-dca2ddc78d73>\u001b[0m in \u001b[0;36m<module>\u001b[1;34m()\u001b[0m\n\u001b[1;32m----> 1\u001b[1;33m \u001b[0mdistancecalc\u001b[0m \u001b[1;33m=\u001b[0m \u001b[0mnumpy\u001b[0m\u001b[1;33m.\u001b[0m\u001b[0msqrt\u001b[0m\u001b[1;33m(\u001b[0m\u001b[1;33m(\u001b[0m\u001b[0mx1\u001b[0m\u001b[1;33m-\u001b[0m\u001b[0mx2\u001b[0m\u001b[1;33m)\u001b[0m\u001b[1;33m**\u001b[0m\u001b[1;36m2\u001b[0m \u001b[1;33m+\u001b[0m \u001b[1;33m(\u001b[0m\u001b[0my1\u001b[0m\u001b[1;33m-\u001b[0m\u001b[0my2\u001b[0m\u001b[1;33m)\u001b[0m\u001b[1;33m**\u001b[0m\u001b[1;36m2\u001b[0m \u001b[1;33m+\u001b[0m \u001b[1;33m(\u001b[0m\u001b[0mz1\u001b[0m \u001b[1;33m-\u001b[0m \u001b[0mz2\u001b[0m\u001b[1;33m)\u001b[0m\u001b[1;33m**\u001b[0m\u001b[1;36m2\u001b[0m\u001b[1;33m)\u001b[0m\u001b[1;33m\u001b[0m\u001b[0m\n\u001b[0m",
      "\u001b[1;31mTypeError\u001b[0m: unsupported operand type(s) for -: 'numpy.str_' and 'numpy.str_'"
     ]
    }
   ],
   "source": [
    "distancecalc = numpy.sqrt((x1-x2)**2 + (y1-y2)**2 + (z1 - z2)**2)"
   ]
  },
  {
   "cell_type": "code",
   "execution_count": 26,
   "metadata": {},
   "outputs": [
    {
     "ename": "TypeError",
     "evalue": "unsupported operand type(s) for -: 'numpy.str_' and 'numpy.str_'",
     "output_type": "error",
     "traceback": [
      "\u001b[1;31m---------------------------------------------------------------------------\u001b[0m",
      "\u001b[1;31mTypeError\u001b[0m                                 Traceback (most recent call last)",
      "\u001b[1;32m<ipython-input-26-31e561a461bc>\u001b[0m in \u001b[0;36m<module>\u001b[1;34m()\u001b[0m\n\u001b[1;32m----> 1\u001b[1;33m \u001b[0mx1\u001b[0m\u001b[1;33m-\u001b[0m\u001b[0mx2\u001b[0m\u001b[1;33m\u001b[0m\u001b[0m\n\u001b[0m",
      "\u001b[1;31mTypeError\u001b[0m: unsupported operand type(s) for -: 'numpy.str_' and 'numpy.str_'"
     ]
    }
   ],
   "source": [
    "x1-x2\n"
   ]
  },
  {
   "cell_type": "code",
   "execution_count": 27,
   "metadata": {},
   "outputs": [
    {
     "data": {
      "text/plain": [
       "numpy.ndarray"
      ]
     },
     "execution_count": 27,
     "metadata": {},
     "output_type": "execute_result"
    }
   ],
   "source": [
    "type(data)"
   ]
  },
  {
   "cell_type": "code",
   "execution_count": 28,
   "metadata": {},
   "outputs": [
    {
     "data": {
      "text/plain": [
       "'0.000000'"
      ]
     },
     "execution_count": 28,
     "metadata": {},
     "output_type": "execute_result"
    }
   ],
   "source": [
    "x1\n"
   ]
  },
  {
   "cell_type": "code",
   "execution_count": 29,
   "metadata": {},
   "outputs": [
    {
     "data": {
      "text/plain": [
       "'0.000000'"
      ]
     },
     "execution_count": 29,
     "metadata": {},
     "output_type": "execute_result"
    }
   ],
   "source": [
    "x2"
   ]
  },
  {
   "cell_type": "code",
   "execution_count": 30,
   "metadata": {},
   "outputs": [
    {
     "data": {
      "text/plain": [
       "numpy.ndarray"
      ]
     },
     "execution_count": 30,
     "metadata": {},
     "output_type": "execute_result"
    }
   ],
   "source": [
    "type(coordinatesupdate)\n"
   ]
  },
  {
   "cell_type": "code",
   "execution_count": 36,
   "metadata": {},
   "outputs": [],
   "source": [
    "test=data.astype(numpy.float)"
   ]
  },
  {
   "cell_type": "code",
   "execution_count": 37,
   "metadata": {},
   "outputs": [
    {
     "data": {
      "text/plain": [
       "numpy.ndarray"
      ]
     },
     "execution_count": 37,
     "metadata": {},
     "output_type": "execute_result"
    }
   ],
   "source": [
    "type(test)"
   ]
  },
  {
   "cell_type": "code",
   "execution_count": 39,
   "metadata": {},
   "outputs": [
    {
     "data": {
      "text/plain": [
       "0.001486"
      ]
     },
     "execution_count": 39,
     "metadata": {},
     "output_type": "execute_result"
    }
   ],
   "source": [
    "data[0,0] + data[1,1]"
   ]
  },
  {
   "cell_type": "code",
   "execution_count": 55,
   "metadata": {},
   "outputs": [
    {
     "name": "stdout",
     "output_type": "stream",
     "text": [
      "O\n",
      "O\n",
      "O\n",
      "1\n",
      "1\n",
      "1\n"
     ]
    },
    {
     "ename": "IndexError",
     "evalue": "string index out of range",
     "output_type": "error",
     "traceback": [
      "\u001b[1;31m---------------------------------------------------------------------------\u001b[0m",
      "\u001b[1;31mIndexError\u001b[0m                                Traceback (most recent call last)",
      "\u001b[1;32m<ipython-input-55-585feafac0a6>\u001b[0m in \u001b[0;36m<module>\u001b[1;34m()\u001b[0m\n\u001b[0;32m     24\u001b[0m          \u001b[0matom2name\u001b[0m \u001b[1;33m=\u001b[0m \u001b[0matom\u001b[0m\u001b[1;33m[\u001b[0m\u001b[0matom2\u001b[0m\u001b[1;33m]\u001b[0m\u001b[1;33m\u001b[0m\u001b[0m\n\u001b[0;32m     25\u001b[0m          \u001b[0mdistancecalc\u001b[0m \u001b[1;33m=\u001b[0m \u001b[0mnumpy\u001b[0m\u001b[1;33m.\u001b[0m\u001b[0msqrt\u001b[0m\u001b[1;33m(\u001b[0m\u001b[1;33m(\u001b[0m\u001b[0mx1\u001b[0m\u001b[1;33m-\u001b[0m\u001b[0mx2\u001b[0m\u001b[1;33m)\u001b[0m\u001b[1;33m**\u001b[0m\u001b[1;36m2\u001b[0m \u001b[1;33m+\u001b[0m \u001b[1;33m(\u001b[0m\u001b[0my1\u001b[0m\u001b[1;33m-\u001b[0m\u001b[0my2\u001b[0m\u001b[1;33m)\u001b[0m\u001b[1;33m**\u001b[0m\u001b[1;36m2\u001b[0m \u001b[1;33m+\u001b[0m \u001b[1;33m(\u001b[0m\u001b[0mz1\u001b[0m \u001b[1;33m-\u001b[0m \u001b[0mz2\u001b[0m\u001b[1;33m)\u001b[0m\u001b[1;33m**\u001b[0m\u001b[1;36m2\u001b[0m\u001b[1;33m)\u001b[0m\u001b[1;33m\u001b[0m\u001b[0m\n\u001b[1;32m---> 26\u001b[1;33m          \u001b[0mprint\u001b[0m\u001b[1;33m(\u001b[0m\u001b[1;34mF'{atom1name[atom1]}'\u001b[0m\u001b[1;33m)\u001b[0m\u001b[1;33m\u001b[0m\u001b[0m\n\u001b[0m",
      "\u001b[1;31mIndexError\u001b[0m: string index out of range"
     ]
    }
   ],
   "source": [
    "import os\n",
    "\n",
    "coordinate_file = os.path.join('data', 'water.xyz')\n",
    "\n",
    "coordinates = numpy.genfromtxt(fname=coordinate_file, skip_header=2, dtype='unicode')\n",
    "\n",
    "atom = coordinates[:,0]\n",
    "data = coordinates[:,1:]\n",
    "\n",
    "\n",
    "data = data.astype(numpy.float)\n",
    "\n",
    "\n",
    "distance = []\n",
    "for atom1 in range(0,len(data)):\n",
    "    x1 = data[atom1, 0]\n",
    "    y1 = data[atom1, 1]\n",
    "    z1 = data[atom1, 2]\n",
    "    atom1name = atom[atom1]\n",
    "    for atom2 in range(0,len(data)):\n",
    "         x2 = data[atom2, 0]\n",
    "         y2 = data[atom2, 1]\n",
    "         z2 = data[atom2, 2]\n",
    "         atom2name = atom[atom2]\n",
    "         distancecalc = numpy.sqrt((x1-x2)**2 + (y1-y2)**2 + (z1 - z2)**2)\n",
    "         print(F'{atom1name[atom1]}')"
   ]
  },
  {
   "cell_type": "code",
   "execution_count": 43,
   "metadata": {},
   "outputs": [
    {
     "ename": "TypeError",
     "evalue": "'numpy.ndarray' object is not callable",
     "output_type": "error",
     "traceback": [
      "\u001b[1;31m---------------------------------------------------------------------------\u001b[0m",
      "\u001b[1;31mTypeError\u001b[0m                                 Traceback (most recent call last)",
      "\u001b[1;32m<ipython-input-43-0ce41491742e>\u001b[0m in \u001b[0;36m<module>\u001b[1;34m()\u001b[0m\n\u001b[1;32m----> 1\u001b[1;33m \u001b[0mcoordinates\u001b[0m\u001b[1;33m(\u001b[0m\u001b[1;36m0\u001b[0m\u001b[1;33m,\u001b[0m\u001b[1;36m0\u001b[0m\u001b[1;33m)\u001b[0m\u001b[1;33m\u001b[0m\u001b[0m\n\u001b[0m",
      "\u001b[1;31mTypeError\u001b[0m: 'numpy.ndarray' object is not callable"
     ]
    }
   ],
   "source": [
    "coordinates(0,0)"
   ]
  },
  {
   "cell_type": "markdown",
   "metadata": {},
   "source": [
    "## one solution\n",
    "import numpy\n",
    "import os\n",
    "\n",
    "coordinate_file = os.path.join('data', 'water.xyz')\n",
    "\n",
    "coordinates = numpy.genfromtxt(fname=coordinate_file, skip_header=2, dtype='unicode')\n",
    "\n",
    "atom = coordinates[:,0]\n",
    "data = coordinates[:,1:]\n",
    "\n",
    "\n",
    "data = data.astype(numpy.float)\n",
    "\n",
    "\n",
    "distance = []\n",
    "for atom1 in range(0,len(data)):\n",
    "    x1 = data[atom1, 0]\n",
    "    y1 = data[atom1, 1]\n",
    "    z1 = data[atom1, 2]\n",
    "    atom1name = atom[atom1]\n",
    "    for atom2 in range(0,len(data)):\n",
    "         x2 = data[atom2, 0]\n",
    "         y2 = data[atom2, 1]\n",
    "         z2 = data[atom2, 2]\n",
    "         atom2name = atom[atom2]\n",
    "         distancecalc = numpy.sqrt((x1-x2)**2 + (y1-y2)**2 + (z1 - z2)**2)\n",
    "         print(F'{atom1name} to {atom2name} : {distancecalc: .3F}')"
   ]
  },
  {
   "cell_type": "code",
   "execution_count": 76,
   "metadata": {},
   "outputs": [
    {
     "name": "stdout",
     "output_type": "stream",
     "text": [
      "O to O :  0.000\n",
      "O to H1 :  0.969\n",
      "O to H2 :  0.969\n",
      "H1 to O :  0.969\n",
      "H1 to H1 :  0.000\n",
      "H1 to H2 :  1.527\n",
      "H2 to O :  0.969\n",
      "H2 to H1 :  1.527\n",
      "H2 to H2 :  0.000\n"
     ]
    }
   ],
   "source": [
    "## ANOTHER SOLUTION\n",
    "import numpy\n",
    "import os\n",
    "\n",
    "coordinate_file = os.path.join('data', 'water.xyz')\n",
    "\n",
    "coordinates = numpy.genfromtxt(fname=coordinate_file, skip_header=2, dtype='unicode')\n",
    "\n",
    "atom = coordinates[:,0]\n",
    "data = coordinates[:,1:]\n",
    "\n",
    "\n",
    "data = data.astype(numpy.float)\n",
    "num_atoms = len(atom)\n",
    "\n",
    "distance = []\n",
    "for atom1 in range(0,num_atoms):\n",
    "    for atom2 in range(0, num_atoms):\n",
    "        x_distance = data[atom1, 0] - data[atom2, 0]\n",
    "        y_distance = data[atom1, 1] - data[atom2, 1]\n",
    "        z_distance = data[atom1, 2] - data[atom2, 2]\n",
    "        bondlength = numpy.sqrt(x_distance**2 + y_distance**2 + z_distance**2)\n",
    "        print(F'{atom[atom1]} to {atom[atom2]} : {bondlength : .3F}')"
   ]
  },
  {
   "cell_type": "code",
   "execution_count": 77,
   "metadata": {},
   "outputs": [
    {
     "name": "stdout",
     "output_type": "stream",
     "text": [
      "O to H1 :  0.969\n",
      "O to H2 :  0.969\n",
      "H1 to O :  0.969\n",
      "H2 to O :  0.969\n"
     ]
    }
   ],
   "source": [
    "## ELIMINATE ANYTHING THAT IS NOT A BOND\n",
    "## ANOTHER SOLUTION\n",
    "import numpy\n",
    "import os\n",
    "\n",
    "coordinate_file = os.path.join('data', 'water.xyz')\n",
    "\n",
    "coordinates = numpy.genfromtxt(fname=coordinate_file, skip_header=2, dtype='unicode')\n",
    "\n",
    "atom = coordinates[:,0]\n",
    "data = coordinates[:,1:]\n",
    "\n",
    "\n",
    "data = data.astype(numpy.float)\n",
    "num_atoms = len(atom)\n",
    "\n",
    "distance = []\n",
    "for atom1 in range(0,num_atoms):\n",
    "    for atom2 in range(0, num_atoms):\n",
    "        x_distance = data[atom1, 0] - data[atom2, 0]\n",
    "        y_distance = data[atom1, 1] - data[atom2, 1]\n",
    "        z_distance = data[atom1, 2] - data[atom2, 2]\n",
    "        bondlength_12 = numpy.sqrt(x_distance**2 + y_distance**2 + z_distance**2)\n",
    "        if bondlength_12 > 0 and bondlength_12 < 1.5:\n",
    "            print(F'{atom[atom1]} to {atom[atom2]} : {bondlength_12 : .3F}')"
   ]
  },
  {
   "cell_type": "code",
   "execution_count": 78,
   "metadata": {},
   "outputs": [
    {
     "name": "stdout",
     "output_type": "stream",
     "text": [
      "O to H1 :  0.969\n",
      "O to H2 :  0.969\n"
     ]
    }
   ],
   "source": [
    "## ELIMINATE DUPLICATES\n",
    "import numpy\n",
    "import os\n",
    "\n",
    "coordinate_file = os.path.join('data', 'water.xyz')\n",
    "\n",
    "coordinates = numpy.genfromtxt(fname=coordinate_file, skip_header=2, dtype='unicode')\n",
    "\n",
    "atom = coordinates[:,0]\n",
    "data = coordinates[:,1:]\n",
    "\n",
    "\n",
    "data = data.astype(numpy.float)\n",
    "num_atoms = len(atom)\n",
    "\n",
    "\n",
    "for atom1 in range(0,num_atoms):\n",
    "    for atom2 in range(0, num_atoms):\n",
    "        if atom1 < atom2:\n",
    "            x_distance = data[atom1, 0] - data[atom2, 0]\n",
    "            y_distance = data[atom1, 1] - data[atom2, 1]\n",
    "            z_distance = data[atom1, 2] - data[atom2, 2]\n",
    "            bondlength_12 = numpy.sqrt(x_distance**2 + y_distance**2 + z_distance**2)\n",
    "            if bondlength_12 > 0 and bondlength_12 < 1.5:\n",
    "                print(F'{atom[atom1]} to {atom[atom2]} : {bondlength_12 : .3F}')"
   ]
  },
  {
   "cell_type": "code",
   "execution_count": 79,
   "metadata": {},
   "outputs": [],
   "source": [
    "## def function_name(parameters):\n",
    "##     function code goes here\n",
    "##     this could be multiple lines\n",
    "##     return value_to_return\n"
   ]
  },
  {
   "cell_type": "code",
   "execution_count": null,
   "metadata": {},
   "outputs": [],
   "source": [
    "def calculate_distance(atom1_coord, atom2_coord):\n",
    "    \"\"\"This function takes the coordinates of two atoms and calculates the distances between them.\n",
    "    Input: atom1_coord, atom2_coord\n",
    "    Returns: distance\n",
    "    \"\"\"\n",
    "    x_distance = atom1_coord[0] - atom2_coord[0]\n",
    "    y_distance = atom1_coord[1] - atom2_coord[1]\n",
    "    z_distance = atom1_coord[2] - atom2_coord[2]\n",
    "    distance = numpy.sqrt(x_distance**2 + y_distance**2 + z_distance**2)\n",
    "    return distance\n"
   ]
  },
  {
   "cell_type": "code",
   "execution_count": 82,
   "metadata": {},
   "outputs": [
    {
     "name": "stdout",
     "output_type": "stream",
     "text": [
      "O to H1 :  0.969\n",
      "O to H2 :  0.969\n"
     ]
    }
   ],
   "source": [
    "num_atoms = len(atom)\n",
    "\n",
    "\n",
    "for atom1 in range(0,num_atoms):\n",
    "    for atom2 in range(0, num_atoms):\n",
    "        if atom1 < atom2:\n",
    "            bondlength_12 = calculate_distance(data[atom1], data[atom2])\n",
    "            if bondlength_12 > 0 and bondlength_12 < 1.5:\n",
    "                print(F'{atom[atom1]} to {atom[atom2]} : {bondlength_12 : .3F}')"
   ]
  },
  {
   "cell_type": "code",
   "execution_count": null,
   "metadata": {},
   "outputs": [
    {
     "name": "stdout",
     "output_type": "stream",
     "text": [
      "\n",
      "Welcome to Python 3.6's help utility!\n",
      "\n",
      "If this is your first time using Python, you should definitely check out\n",
      "the tutorial on the Internet at https://docs.python.org/3.6/tutorial/.\n",
      "\n",
      "Enter the name of any module, keyword, or topic to get help on writing\n",
      "Python programs and using Python modules.  To quit this help utility and\n",
      "return to the interpreter, just type \"quit\".\n",
      "\n",
      "To get a list of available modules, keywords, symbols, or topics, type\n",
      "\"modules\", \"keywords\", \"symbols\", or \"topics\".  Each module also comes\n",
      "with a one-line summary of what it does; to list the modules whose name\n",
      "or summary contain a given string such as \"spam\", type \"modules spam\".\n",
      "\n"
     ]
    }
   ],
   "source": [
    "help()"
   ]
  },
  {
   "cell_type": "code",
   "execution_count": null,
   "metadata": {},
   "outputs": [],
   "source": [
    "help(calculate_distance)\n"
   ]
  },
  {
   "cell_type": "code",
   "execution_count": null,
   "metadata": {},
   "outputs": [],
   "source": [
    "def calculate_distance(atom1_coord, atom2_coord):\n",
    "    \"\"\"This function takes the coordinates of two atoms and calculates the distances between them.\n",
    "    Input: atom1_coord, atom2_coord\n",
    "    Returns: distance\n",
    "    \"\"\"\n",
    "    x_distance = atom1_coord[0] - atom2_coord[0]\n",
    "    y_distance = atom1_coord[1] - atom2_coord[1]\n",
    "    z_distance = atom1_coord[2] - atom2_coord[2]\n",
    "    distance = numpy.sqrt(x_distance**2 + y_distance**2 + z_distance**2)\n",
    "    return distance"
   ]
  },
  {
   "cell_type": "code",
   "execution_count": null,
   "metadata": {},
   "outputs": [],
   "source": [
    "help(calculate_distance)"
   ]
  },
  {
   "cell_type": "code",
   "execution_count": null,
   "metadata": {},
   "outputs": [],
   "source": [
    "# Write a new function called bond_check. Check and see if a distance is between 0 and 1.5 \n",
    "# Angstroms. Return true or false\n",
    "def bond_check(distance):\n",
    "    \"\"\"\n",
    "    This function checks if the distance is between 0 and 1.5 Angstroms\n",
    "    Input: distance \n",
    "    Returns: True or False\n",
    "    \n",
    "    \"\"\"\n",
    "    if distance > 0 and distance < 1.5:\n",
    "        return True\n",
    "    else:\n",
    "        return False"
   ]
  },
  {
   "cell_type": "code",
   "execution_count": null,
   "metadata": {},
   "outputs": [],
   "source": [
    "help(bond_check)"
   ]
  },
  {
   "cell_type": "code",
   "execution_count": null,
   "metadata": {},
   "outputs": [],
   "source": [
    "bond_check(9)"
   ]
  },
  {
   "cell_type": "code",
   "execution_count": null,
   "metadata": {},
   "outputs": [],
   "source": [
    "def bond_check(distance):\n",
    "    \"\"\"\n",
    "    This function checks if the distance is between 0 and 1.5 Angstroms\n",
    "    Input: distance \n",
    "    Returns: True or False\n",
    "    \n",
    "    \"\"\"\n",
    "    if distance > 0 and distance < 1.5:\n",
    "        return True\n",
    "    else:\n",
    "        return False"
   ]
  },
  {
   "cell_type": "code",
   "execution_count": null,
   "metadata": {},
   "outputs": [],
   "source": []
  },
  {
   "cell_type": "code",
   "execution_count": null,
   "metadata": {},
   "outputs": [],
   "source": []
  },
  {
   "cell_type": "code",
   "execution_count": null,
   "metadata": {},
   "outputs": [],
   "source": [
    "6+8\n"
   ]
  },
  {
   "cell_type": "code",
   "execution_count": null,
   "metadata": {},
   "outputs": [],
   "source": []
  }
 ],
 "metadata": {
  "kernelspec": {
   "display_name": "Python 3",
   "language": "python",
   "name": "python3"
  },
  "language_info": {
   "codemirror_mode": {
    "name": "ipython",
    "version": 3
   },
   "file_extension": ".py",
   "mimetype": "text/x-python",
   "name": "python",
   "nbconvert_exporter": "python",
   "pygments_lexer": "ipython3",
   "version": "3.6.5"
  }
 },
 "nbformat": 4,
 "nbformat_minor": 2
}
